{
 "cells": [
  {
   "cell_type": "markdown",
   "id": "9d1706e1",
   "metadata": {},
   "source": [
    "### Extract Information (with Pydantic)"
   ]
  },
  {
   "cell_type": "code",
   "execution_count": 2,
   "id": "190a1aa2",
   "metadata": {},
   "outputs": [],
   "source": [
    "from langchain_openai.chat_models import ChatOpenAI\n",
    "\n",
    "chat = ChatOpenAI()"
   ]
  },
  {
   "cell_type": "code",
   "execution_count": 10,
   "id": "d222816e",
   "metadata": {},
   "outputs": [],
   "source": [
    "ProjectDescription = '''\n",
    "Imóvel tipo residencial, contendo os seguintes compartimentos: com três quartos, uma sala, uma cozinha, duas vagas na garagem.\n",
    "Mede 10.5 metros de largura e 18.7 metros de comprimento. Próximo à praia.\n",
    "'''"
   ]
  },
  {
   "cell_type": "code",
   "execution_count": 14,
   "id": "c6c9abf5",
   "metadata": {},
   "outputs": [
    {
     "data": {
      "text/plain": [
       "ProjectAssessment(proximoPraia=True, vagasGaragem=2, largura=10.5, comprimento=18.7, compartimentos=['quarto', 'quarto', 'quarto', 'sala', 'cozinha'])"
      ]
     },
     "execution_count": 14,
     "metadata": {},
     "output_type": "execute_result"
    }
   ],
   "source": [
    "from pydantic import BaseModel, Field\n",
    "\n",
    "class ProjectAssessment(BaseModel):\n",
    "    '''Avalia característica de profissional'''\n",
    "    proximoPraia: bool = Field(description = 'Verdadeiro se perto da praia e False se não for perto da praia.')\n",
    "    vagasGaragem: int = Field(description = 'Quantos vagas na garagem.')\n",
    "    largura: float = Field(description =' Quanto tem de largura.')\n",
    "    comprimento: float = Field(description =' Quanto tem de comprimento.')\n",
    "    compartimentos: list[str] = Field(description = 'Extraia os compartimentos. \\\n",
    "    Retorne uma lista.')\n",
    "\n",
    "llmStructured = chat.with_structured_output(ProjectAssessment)\n",
    "answer = llmStructured.invoke(ProjectDescription)\n",
    "answer"
   ]
  },
  {
   "cell_type": "code",
   "execution_count": 15,
   "id": "2173b2eb",
   "metadata": {},
   "outputs": [
    {
     "data": {
      "text/plain": [
       "True"
      ]
     },
     "execution_count": 15,
     "metadata": {},
     "output_type": "execute_result"
    }
   ],
   "source": [
    "answer.proximoPraia\n",
    "# type(answer.proximoPraia)"
   ]
  },
  {
   "cell_type": "code",
   "execution_count": 16,
   "id": "6ece0646",
   "metadata": {},
   "outputs": [
    {
     "data": {
      "text/plain": [
       "int"
      ]
     },
     "execution_count": 16,
     "metadata": {},
     "output_type": "execute_result"
    }
   ],
   "source": [
    "# answer.vagasGaragem\n",
    "type(answer.vagasGaragem)"
   ]
  },
  {
   "cell_type": "code",
   "execution_count": 17,
   "id": "a8a6a3af",
   "metadata": {},
   "outputs": [
    {
     "data": {
      "text/plain": [
       "['quarto', 'quarto', 'quarto', 'sala', 'cozinha']"
      ]
     },
     "execution_count": 17,
     "metadata": {},
     "output_type": "execute_result"
    }
   ],
   "source": [
    "answer.compartimentos"
   ]
  },
  {
   "cell_type": "code",
   "execution_count": 21,
   "id": "f889722d",
   "metadata": {},
   "outputs": [
    {
     "data": {
      "text/plain": [
       "196.35"
      ]
     },
     "execution_count": 21,
     "metadata": {},
     "output_type": "execute_result"
    }
   ],
   "source": [
    "area = (answer.largura * answer.comprimento)\n",
    "area"
   ]
  },
  {
   "cell_type": "code",
   "execution_count": null,
   "id": "d818f885",
   "metadata": {},
   "outputs": [],
   "source": []
  }
 ],
 "metadata": {
  "kernelspec": {
   "display_name": "IAAgents",
   "language": "python",
   "name": "python3"
  },
  "language_info": {
   "codemirror_mode": {
    "name": "ipython",
    "version": 3
   },
   "file_extension": ".py",
   "mimetype": "text/x-python",
   "name": "python",
   "nbconvert_exporter": "python",
   "pygments_lexer": "ipython3",
   "version": "3.12.9"
  }
 },
 "nbformat": 4,
 "nbformat_minor": 5
}
